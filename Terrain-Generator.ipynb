{
 "cells": [
  {
   "cell_type": "markdown",
   "metadata": {},
   "source": [
    "# Quantum Procedural Generation on a PewPew\n",
    "\n",
    "This game is just a walking simulator, allowing the player to explore a procedurally generated world. It was inspired by [this work](https://medium.com/qiskit/creating-infinite-worlds-with-quantum-computing-5e998e6d21c2) on procedurally generating terrain using quantum computers, but takes a different approach."
   ]
  },
  {
   "cell_type": "code",
   "execution_count": null,
   "metadata": {},
   "outputs": [],
   "source": [
    "%matplotlib notebook"
   ]
  },
  {
   "cell_type": "markdown",
   "metadata": {},
   "source": [
    "At its most basic, terrain is just a heightmap. Given some position `x` and `y`, it has a height. In this game we'll look at the terrain from the top down. The height of a pixel will be shown by its brightness. \n",
    "\n",
    "\n",
    "Procedural generation creates content using an algorithm. For terrain, this usually means writing a function that determines the height of any point given to it. It has to do this in a way that generates 'nice' terrain. For example, you might want it not to be too jagged, so the height of neighbouring points should be quite similar. The function will typically also use a seed. By changing the seed, you can change the terrain without needing to change the function itself\n",
    "\n",
    "Put this all together, and we find that we need a function that determines the brightness of any given point. Below is the one we'll use in this game."
   ]
  },
  {
   "cell_type": "code",
   "execution_count": 2,
   "metadata": {},
   "outputs": [],
   "source": [
    "# define a function that determines a brightness for any given point\n",
    "# uses a seed that is a list of four numbers\n",
    "def get_brightness(x,y):\n",
    "    qc.data.clear() # empty the circuit\n",
    "    # perform rotations, whose angles depend on x and y\n",
    "    qc.rx((2*pi/360)*(seed[0]*x-seed[1]*y)*45,0)\n",
    "    qc.h(0)\n",
    "    qc.rx((2*pi/360)*(seed[2]*x+seed[3]*y**2)*45,0)\n",
    "    # calculate probability for outcome 1\n",
    "    qc.measure(0,0)\n",
    "    p = simulate(qc,shots=1000,get='counts')['1']/1000\n",
    "    # return brightness depending on this probability\n",
    "    # the chosen values here are fairly arbitrarily\n",
    "    if p>0.7:\n",
    "        if p<0.8:\n",
    "            return 1\n",
    "        elif p<0.9:\n",
    "            return 2\n",
    "        else:\n",
    "            return 3\n",
    "    else:\n",
    "        return 0"
   ]
  },
  {
   "cell_type": "markdown",
   "metadata": {},
   "source": [
    "This takes coordinates `x` and `y` and returns a brightness `B`. It assumes that it will have access to two things. A single qubit quantum circuit `qc`, and a list of four numbers called `seed`.\n",
    "\n",
    "The process is then to first make sure the circuit is empty, and then peform a few single qubit rotations. These are done for angles that depend on the coordinates `x` and `y`. The angles are chosen such that they don't change by more than 45 degrees between neighbouring points.\n",
    "\n",
    "Finally, the circuit is run and the probability of the outcome `1` is calculated. This is used as the height of the point, and the brightness value is chosen accordingly.\n",
    "\n",
    "Here is a few examples of it determining the brightness of a small group of pixels, for a randomly generated seed."
   ]
  },
  {
   "cell_type": "code",
   "execution_count": 3,
   "metadata": {},
   "outputs": [
    {
     "name": "stdout",
     "output_type": "stream",
     "text": [
      "Brightness at (3, 3) is B = 1\n",
      "Brightness at (3, 4) is B = 0\n",
      "Brightness at (4, 3) is B = 3\n",
      "Brightness at (4, 4) is B = 0\n"
     ]
    }
   ],
   "source": [
    "from microqiskit import QuantumCircuit, simulate\n",
    "from math import pi\n",
    "from random import random\n",
    "\n",
    "seed = [random() for _ in range(4)]\n",
    "\n",
    "# initialize circuit used by the function\n",
    "qc = QuantumCircuit(1,1)\n",
    "\n",
    "for (x,y) in [(3,3),(3,4),(4,3),(4,4)]:\n",
    "    print('Brightness at',(x,y),'is B =',get_brightness(x,y))"
   ]
  },
  {
   "cell_type": "markdown",
   "metadata": {},
   "source": [
    "Using the PewPew, we can see what it actually looks like."
   ]
  },
  {
   "cell_type": "code",
   "execution_count": null,
   "metadata": {
    "scrolled": false
   },
   "outputs": [],
   "source": [
    "###########################################################\n",
    "# Replace this comment with the `get_brightness` function #\n",
    "# if running anywhere other than this notebook            #\n",
    "###########################################################\n",
    "\n",
    "import pew\n",
    "from microqiskit import QuantumCircuit, simulate\n",
    "from math import pi\n",
    "from random import random\n",
    "\n",
    "pew.init()\n",
    "screen = pew.Pix()\n",
    "\n",
    "# initialize circuit\n",
    "qc = QuantumCircuit(1,1)\n",
    "\n",
    "# set a random seed, composed of four numbers\n",
    "seed = [random() for _ in range(4)]\n",
    "    \n",
    "# loop over all points, and display the brightness\n",
    "for x in range(8):\n",
    "    for y in range(8):\n",
    "        B = get_brightness(x,y)\n",
    "        screen.pixel(x,y,B)\n",
    "pew.show(screen)\n",
    "\n",
    "pew.tick(5)"
   ]
  },
  {
   "cell_type": "markdown",
   "metadata": {},
   "source": [
    "This showed us one screen's worth of points. To see more, we can use the arrow keys to effectively move the camera: changing the coordinates shown on screen. Specifcially, we'll move by half a screen at a time. This is because it will take time to load the new terrain, and it would be infuriating to move only one pixel at a time."
   ]
  },
  {
   "cell_type": "code",
   "execution_count": null,
   "metadata": {},
   "outputs": [],
   "source": [
    "###########################################################\n",
    "# Replace this comment with the `get_brightness` function #\n",
    "# if running anywhere other than this notebook            #\n",
    "###########################################################\n",
    "\n",
    "import pew\n",
    "from microqiskit import QuantumCircuit, simulate\n",
    "from math import *\n",
    "from random import random\n",
    "\n",
    "pew.init()\n",
    "screen = pew.Pix()\n",
    "\n",
    "# initialize circuit\n",
    "qc = QuantumCircuit(1,1)\n",
    "\n",
    "# set a random seed, composed of four numbers\n",
    "seed = [(2*(random()<0.5)-1)*(1+random())/2 for _ in range(4)]\n",
    "\n",
    "# coordinate of the current screen\n",
    "X,Y = 0,0\n",
    "    \n",
    "# loop to allow player to move half a screen\n",
    "while True:\n",
    "    \n",
    "    # arrow keys move to neighbouring screens\n",
    "    keys = pew.keys()\n",
    "    if keys!=0:\n",
    "        if keys&pew.K_UP:\n",
    "            Y -= 4\n",
    "        if keys&pew.K_DOWN:\n",
    "            Y += 4\n",
    "        if keys&pew.K_LEFT:\n",
    "            X -= 4\n",
    "        if keys&pew.K_RIGHT:\n",
    "            X += 4\n",
    "    \n",
    "    # loop over all points on the screen, and display the brightness\n",
    "    for x in range(8):\n",
    "        for y in range(8):\n",
    "            B = get_brightness(x+X,y+Y) # coordinate of the player is accounted for also\n",
    "            screen.pixel(x,y,B)\n",
    "    pew.show(screen)\n",
    "\n",
    "    pew.tick(1/6)"
   ]
  },
  {
   "cell_type": "markdown",
   "metadata": {},
   "source": [
    "We mentioned before that terrain should be 'nice'. I think the `get_brightness` function here creates terrain which is quite nice, but it could be better. Why not try to improve it?"
   ]
  },
  {
   "cell_type": "markdown",
   "metadata": {},
   "source": [
    "**[Click here to return to the index](Start-Here.ipynb)**"
   ]
  },
  {
   "cell_type": "code",
   "execution_count": null,
   "metadata": {},
   "outputs": [],
   "source": []
  }
 ],
 "metadata": {
  "kernelspec": {
   "display_name": "Python 3",
   "language": "python",
   "name": "python3"
  },
  "language_info": {
   "codemirror_mode": {
    "name": "ipython",
    "version": 3
   },
   "file_extension": ".py",
   "mimetype": "text/x-python",
   "name": "python",
   "nbconvert_exporter": "python",
   "pygments_lexer": "ipython3",
   "version": "3.7.0"
  }
 },
 "nbformat": 4,
 "nbformat_minor": 2
}
