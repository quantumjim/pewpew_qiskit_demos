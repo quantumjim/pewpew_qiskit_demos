{
 "cells": [
  {
   "cell_type": "markdown",
   "metadata": {},
   "source": [
    "# Introduction to the PewPew\n",
    "\n",
    "*This workshop is a companion to 0.1 - Introduction to Python and Jupyter Notebooks.*\n",
    "\n",
    "The PewPew is a handheld games console with 6 buttons and 64 pixels.\n",
    "\n",
    "![]()\n",
    "\n",
    "It provides a perfect environment for people to get their first taste of programming or game design. In these workshops we will also use it to get people started with quantum computing.\n",
    "\n",
    "### How to run PewPew programs\n",
    "\n",
    "The code cells in this notebook are all standalone programs. You can run them by copying their contents into the `main.py` file on a PewPew.\n",
    "\n",
    "If you don't have a PewPew, the easiest alternative is to emulate one in a browser, such as by using [this site](https://repl.it/@quantum_jim/pewpewtutorials).  Just copy and paste code into the space provided and press 'Run'. (Note that this is an external site, unaffiliated with Qiskit or IBM). \n",
    "\n",
    "If you have neither a PewPew nor an internet connection. you can simply execute the code cells in this notebook. An emulator then displays an emulated PewPew screen using Matplotlib magic."
   ]
  },
  {
   "cell_type": "code",
   "execution_count": null,
   "metadata": {},
   "outputs": [],
   "source": [
    "%matplotlib notebook"
   ]
  },
  {
   "cell_type": "markdown",
   "metadata": {},
   "source": [
    "To interact with this emulator, you'll need to run `python3 controller.py` on the command line to get your controller. Make sure to do so before you execute any cells in this notebook. Once you have finished playing with each cell, make sure to stop the process it is running. The controller, however, can just be left running."
   ]
  },
  {
   "cell_type": "markdown",
   "metadata": {},
   "source": [
    "### Your first PewPew program\n",
    "\n",
    "Let's start with the most minimal example of a program for the PewPew. We will simply light up one of the pixels. This is done with the command `screen.pixel(X,Y,B)`, where `X` and `Y` are the coordinates of the pixel (each a number from 0 to 7) and `B` is the brightness (0 for off, and then 1, 2 and 3 from dim to bright).\n",
    "\n",
    "Here is a program that lights up the pixel at position X=1, Y=2."
   ]
  },
  {
   "cell_type": "code",
   "execution_count": null,
   "metadata": {},
   "outputs": [],
   "source": [
    "import pew # setting up tools for the pewpew\n",
    "\n",
    "pew.init() # initialize the game engine...\n",
    "screen = pew.Pix() # ...and the screen\n",
    "\n",
    "screen.pixel(1,2,3) # put a bright pixel at (1,2)\n",
    "pew.show(screen) # update screen to display the above change\n",
    "\n",
    "pew.tick(5) # pause for 5 seconds before quitting"
   ]
  },
  {
   "cell_type": "markdown",
   "metadata": {},
   "source": [
    "For something a little more complex, let's light up all the pixels in the 3x3 square centered on X=1,Y=2. We do this using a loop, which runs through all the pixels we need. Then we'll set them all to have a brightness of B=2."
   ]
  },
  {
   "cell_type": "code",
   "execution_count": null,
   "metadata": {},
   "outputs": [],
   "source": [
    "import pew # setting up tools for the pewpew\n",
    "\n",
    "pew.init() # initialize the game engine...\n",
    "screen = pew.Pix() # ...and the screen\n",
    "\n",
    "# loop over the square centered on (1,2) and make all dim\n",
    "(X,Y) = (1,2)\n",
    "for dX in [+1,0,-1]:\n",
    "    for dY in [+1,0,-1]:\n",
    "        screen.pixel(X+dX,Y+dY,2)\n",
    "\n",
    "pew.show(screen) # update screen to display the above changes\n",
    "\n",
    "pew.tick(5) # pause for 5 seconds before quitting"
   ]
  },
  {
   "cell_type": "markdown",
   "metadata": {},
   "source": [
    "Now let's turn a pixel off. Specifically, the one at (1,2). This is done by setting its brightness to 0."
   ]
  },
  {
   "cell_type": "code",
   "execution_count": null,
   "metadata": {},
   "outputs": [],
   "source": [
    "import pew # setting up tools for the pewpew\n",
    "\n",
    "pew.init() # initialize the game engine...\n",
    "screen = pew.Pix() # ...and the screen\n",
    "\n",
    "# loop over the square centered on (1,2) and make all dim\n",
    "(X,Y) = (1,2)\n",
    "for dX in [+1,0,-1]:\n",
    "    for dY in [+1,0,-1]:\n",
    "        screen.pixel(X+dX,Y+dY,2)\n",
    "        \n",
    "screen.pixel(X,Y,0) # turn off pixel at (1,2)     \n",
    "\n",
    "pew.show(screen) # update screen to display the above changes\n",
    "\n",
    "pew.tick(5) # pause for 5 seconds before quitting"
   ]
  },
  {
   "cell_type": "markdown",
   "metadata": {},
   "source": [
    "Now let's make things interactive. For this we need a loop, which will allow the program to keep periodically checking for input.\n",
    "\n",
    "The input is described by `keys=pew.keys()`, which takes certain values depending on which button is being pressed. Pressing 'Up' gives the value described by `pew.K_UP`, and so on. Pressing multiple buttons will give a value that describes the combination. To filter out whether a given button is pressed we therefore use Python's `&` operation, such as `keys&pew.K_UP` to check for 'Up'.\n",
    "\n",
    "Using this information, we can construct `if`-`else` statements to control what the program does when a button is pressed. We'll simply use the 'Up' button (up arrow on a keyboard) to control whether the pixel at (1,2) is on or not."
   ]
  },
  {
   "cell_type": "code",
   "execution_count": null,
   "metadata": {
    "scrolled": false
   },
   "outputs": [],
   "source": [
    "import pew # setting up tools for the pewpew\n",
    "\n",
    "pew.init() # initialize the game engine...\n",
    "screen = pew.Pix() # ...and the screen\n",
    "\n",
    "# loop over the square centered on (1,2) and make all dim\n",
    "(X,Y) = (1,2)\n",
    "for dX in [+1,0,-1]:\n",
    "    for dY in [+1,0,-1]:\n",
    "        screen.pixel(X+dX,Y+dY,2)\n",
    "        \n",
    "screen.pixel(X,Y,0) # turn off pixel at (1,2) \n",
    "\n",
    "while True: # loop which checks for user input and responds\n",
    "\n",
    "    keys = pew.keys() # get current key presses\n",
    "    if keys!=0:\n",
    "        if keys & pew.K_UP: # if UP is pressed, turn the pixel at (1,2) on (to a brightness of 3)\n",
    "            screen.pixel(X,Y,3)\n",
    "\n",
    "    pew.show(screen) # update screen to display the above changes\n",
    "\n",
    "    pew.tick(1/6) # pause for a sixth of a second"
   ]
  },
  {
   "cell_type": "markdown",
   "metadata": {},
   "source": [
    "Now we know the very basics of the PewPew,  let's get started with some quantum!"
   ]
  },
  {
   "cell_type": "markdown",
   "metadata": {},
   "source": [
    "**[Click here for the next notebook](W.0.2.ipynb)**"
   ]
  },
  {
   "cell_type": "code",
   "execution_count": null,
   "metadata": {},
   "outputs": [],
   "source": []
  }
 ],
 "metadata": {
  "kernelspec": {
   "display_name": "Python 3",
   "language": "python",
   "name": "python3"
  },
  "language_info": {
   "codemirror_mode": {
    "name": "ipython",
    "version": 3
   },
   "file_extension": ".py",
   "mimetype": "text/x-python",
   "name": "python",
   "nbconvert_exporter": "python",
   "pygments_lexer": "ipython3",
   "version": "3.7.0"
  }
 },
 "nbformat": 4,
 "nbformat_minor": 2
}
