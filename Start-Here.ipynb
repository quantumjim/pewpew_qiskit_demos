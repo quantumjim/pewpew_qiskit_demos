{
 "cells": [
  {
   "cell_type": "markdown",
   "metadata": {},
   "source": [
    "# Workshops on Making Quantum Games\n",
    "\n",
    "In these workshops you will learn the basics of quantum programming. You won't have to watch a lecture on quantum mechanics, and you won't need to do any maths. Instead, you'll learn by making simple games using quantum effects.\n",
    "\n",
    "### Part 1 - The Basics of Quantum Programming\n",
    "\n",
    "This is a series of notebooks. It's best to start at the beginning.\n",
    "\n",
    "**[Click here for the first notebook](Introduction-PewPew.ipynb)**\n",
    "\n",
    "### Part 2 - Examples of Quantum Games\n",
    "\n",
    "These notebooks each show you how to make a different simple quantum game. They can be done in any order.\n",
    "\n",
    "* [Quantum Rogues](Quantum-Rogues.ipynb)\n"
   ]
  },
  {
   "cell_type": "code",
   "execution_count": null,
   "metadata": {},
   "outputs": [],
   "source": []
  }
 ],
 "metadata": {
  "kernelspec": {
   "display_name": "Python 3",
   "language": "python",
   "name": "python3"
  },
  "language_info": {
   "codemirror_mode": {
    "name": "ipython",
    "version": 3
   },
   "file_extension": ".py",
   "mimetype": "text/x-python",
   "name": "python",
   "nbconvert_exporter": "python",
   "pygments_lexer": "ipython3",
   "version": "3.7.0"
  }
 },
 "nbformat": 4,
 "nbformat_minor": 2
}
