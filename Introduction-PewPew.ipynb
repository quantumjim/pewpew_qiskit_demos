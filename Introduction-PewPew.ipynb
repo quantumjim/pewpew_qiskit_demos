{
 "cells": [
  {
   "cell_type": "markdown",
   "metadata": {},
   "source": [
    "# Introduction to the PewPew\n",
    "\n",
    "*This workshop covers topics from the [Introduction to Python and Jupyter Notebooks]()  section of the textbook [Learn Quantum Computation using Qiskit](https://community.qiskit.org).*\n",
    "\n",
    "The [PewPew](https://pewpew.readthedocs.io/en/latest/) is a handheld games console with 6 buttons and 64 pixels. It provides a perfect environment for people to get their first taste of programming or game design. In these workshops we will also use it to get people started with quantum computing.\n",
    "\n",
    "### How to run PewPew programs\n",
    "\n",
    "The code cells in this notebook are all standalone programs. To run them, pick one of the following three options.\n",
    "\n",
    "* Run on an actual PewPew by connecting it to your computer, and then copying the program into the `main.py` file on the device.\n",
    "\n",
    "* Run it in conjugation with the Pygame-based emulator for the PewPew.  You can do this by using a web-hosted service such as [this one](https://repl.it/@quantum_jim/pewpewtutorials) (Note that this is an external site, unaffiliated with Qiskit or IBM). You could also download all the files there, copy programs into the `main.py` file and run them on your own computer.\n",
    "\n",
    "* Simply run the cells in this notebook to use a Matplotlib-based emulator. You'll also need to open and run [this notebook](controller.ipynb) to get the controller.\n",
    "\n",
    "If you are using the third option, start by firing up the matplotlib magic."
   ]
  },
  {
   "cell_type": "code",
   "execution_count": null,
   "metadata": {},
   "outputs": [],
   "source": [
    "%matplotlib notebook"
   ]
  },
  {
   "cell_type": "markdown",
   "metadata": {},
   "source": [
    "### Your first PewPew program\n",
    "\n",
    "Let's start with the most minimal example of a program for the PewPew. We will simply light up one of the pixels. This is done with the command `screen.pixel(X,Y,B)`, where `X` and `Y` are the coordinates of the pixel (each a number from 0 to 7) and `B` is the brightness (0 for off, and then 1, 2 and 3 from dim to bright).\n",
    "\n",
    "Here is a program that lights up the pixel at position X=1, Y=2 with maximum brightness."
   ]
  },
  {
   "cell_type": "code",
   "execution_count": null,
   "metadata": {},
   "outputs": [],
   "source": [
    "import pew # setting up tools for the pewpew\n",
    "\n",
    "pew.init() # initialize the game engine...\n",
    "screen = pew.Pix() # ...and the screen\n",
    "\n",
    "screen.pixel(1,2,3) # put a bright pixel at (1,2)\n",
    "pew.show(screen) # update screen to display the above change\n",
    "\n",
    "pew.tick(5) # pause for 5 seconds before quitting"
   ]
  },
  {
   "cell_type": "markdown",
   "metadata": {},
   "source": [
    "For something a little more complex, let's light up all the pixels in the 3x3 square centered on X=1,Y=2. We do this using a loop, which runs through all the pixels we need. Then we'll set them all to have a brightness of B=2."
   ]
  },
  {
   "cell_type": "code",
   "execution_count": null,
   "metadata": {},
   "outputs": [],
   "source": [
    "import pew # setting up tools for the pewpew\n",
    "\n",
    "pew.init() # initialize the game engine...\n",
    "screen = pew.Pix() # ...and the screen\n",
    "\n",
    "# loop over the square centered on (1,2) and make all dim\n",
    "(X,Y) = (1,2)\n",
    "for dX in [+1,0,-1]:\n",
    "    for dY in [+1,0,-1]:\n",
    "        screen.pixel(X+dX,Y+dY,2)\n",
    "\n",
    "pew.show(screen) # update screen to display the above changes\n",
    "\n",
    "pew.tick(5) # pause for 5 seconds before quitting"
   ]
  },
  {
   "cell_type": "markdown",
   "metadata": {},
   "source": [
    "Now let's turn a pixel off. Specifically, the one at (1,2). This is done by setting its brightness to 0."
   ]
  },
  {
   "cell_type": "code",
   "execution_count": null,
   "metadata": {},
   "outputs": [],
   "source": [
    "import pew # setting up tools for the pewpew\n",
    "\n",
    "pew.init() # initialize the game engine...\n",
    "screen = pew.Pix() # ...and the screen\n",
    "\n",
    "# loop over the square centered on (1,2) and make all dim\n",
    "(X,Y) = (1,2)\n",
    "for dX in [+1,0,-1]:\n",
    "    for dY in [+1,0,-1]:\n",
    "        screen.pixel(X+dX,Y+dY,2)\n",
    "        \n",
    "screen.pixel(X,Y,0) # turn off pixel at (1,2)     \n",
    "\n",
    "pew.show(screen) # update screen to display the above changes\n",
    "\n",
    "pew.tick(5) # pause for 5 seconds before quitting"
   ]
  },
  {
   "cell_type": "markdown",
   "metadata": {},
   "source": [
    "In the end, we want to create games. For this we need a loop, which will allow the program to keep periodically checking for input.\n",
    "\n",
    "The input is described by `keys=pew.keys()`, which takes certain values depending on which button is being pressed. Pressing 'Up' gives the value described by `pew.K_UP`, and so on. Pressing multiple buttons will give a value that describes the combination. To filter out whether a given button is pressed we therefore use Python's `&` operation, such as `keys&pew.K_UP` to check for 'Up'.\n",
    "\n",
    "Using this information, we can construct `if`-`else` statements to control what the program does when a button is pressed. We'll simply use the 'Up' button (up arrow on a keyboard) to control whether the pixel at (1,2) is on or not."
   ]
  },
  {
   "cell_type": "code",
   "execution_count": null,
   "metadata": {
    "scrolled": false
   },
   "outputs": [],
   "source": [
    "import pew # setting up tools for the pewpew\n",
    "\n",
    "pew.init() # initialize the game engine...\n",
    "screen = pew.Pix() # ...and the screen\n",
    "\n",
    "# loop over the square centered on (1,2) and make all dim\n",
    "(X,Y) = (1,2)\n",
    "for dX in [+1,0,-1]:\n",
    "    for dY in [+1,0,-1]:\n",
    "        screen.pixel(X+dX,Y+dY,2)\n",
    "        \n",
    "screen.pixel(X,Y,0) # turn off pixel at (1,2) \n",
    "\n",
    "while True: # loop which checks for user input and responds\n",
    "\n",
    "    keys = pew.keys() # get current key presses\n",
    "    if keys!=0:\n",
    "        if keys&pew.K_UP: # if UP is pressed, turn the pixel at (1,2) on (to a brightness of 3)\n",
    "            screen.pixel(X,Y,3)\n",
    "\n",
    "    pew.show(screen) # update screen to display the above changes\n",
    "\n",
    "    pew.tick(1/6) # pause for a sixth of a second"
   ]
  },
  {
   "cell_type": "markdown",
   "metadata": {},
   "source": [
    "Now we know the very basics of the PewPew,  let's get started with some quantum!"
   ]
  },
  {
   "cell_type": "markdown",
   "metadata": {},
   "source": [
    "**[Click here for the next notebook](Introduction-MicroQiskit.ipynb)**"
   ]
  },
  {
   "cell_type": "code",
   "execution_count": null,
   "metadata": {},
   "outputs": [],
   "source": []
  }
 ],
 "metadata": {
  "kernelspec": {
   "display_name": "Python 3",
   "language": "python",
   "name": "python3"
  },
  "language_info": {
   "codemirror_mode": {
    "name": "ipython",
    "version": 3
   },
   "file_extension": ".py",
   "mimetype": "text/x-python",
   "name": "python",
   "nbconvert_exporter": "python",
   "pygments_lexer": "ipython3",
   "version": "3.7.0"
  }
 },
 "nbformat": 4,
 "nbformat_minor": 2
}
